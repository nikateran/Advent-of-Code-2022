{
 "cells": [
  {
   "cell_type": "code",
   "execution_count": 2,
   "metadata": {},
   "outputs": [
    {
     "name": "stdout",
     "output_type": "stream",
     "text": [
      "15337\n"
     ]
    }
   ],
   "source": [
    "#Part 1\n",
    "\n",
    "lines = open('2_big.txt', 'r').readlines()\n",
    "\n",
    "score = 0\n",
    "\n",
    "for line in lines:\n",
    "    opponent, me = line.strip('\\n').split(' ')\n",
    "    if me == 'X':\n",
    "        score += 1\n",
    "        if opponent == 'A':\n",
    "            score += 3\n",
    "        elif opponent == 'B':\n",
    "            score += 0\n",
    "        elif opponent == 'C':\n",
    "            score += 6\n",
    "    elif me == 'Y':\n",
    "        score += 2\n",
    "        if opponent == 'A':\n",
    "            score += 6\n",
    "        elif opponent == 'B':\n",
    "            score += 3\n",
    "        elif opponent == 'C':\n",
    "            score += 0\n",
    "    elif me == 'Z':\n",
    "        score += 3\n",
    "        if opponent == 'A':\n",
    "            score += 0\n",
    "        elif opponent == 'B':\n",
    "            score += 6\n",
    "        elif opponent == 'C':\n",
    "            score += 3\n",
    "\n",
    "print(score)"
   ]
  },
  {
   "cell_type": "code",
   "execution_count": 4,
   "metadata": {},
   "outputs": [
    {
     "name": "stdout",
     "output_type": "stream",
     "text": [
      "11696\n"
     ]
    }
   ],
   "source": [
    "\n",
    "#Part 2\n",
    "\n",
    "lines = open('2_big.txt', 'r').readlines()\n",
    "\n",
    "score = 0\n",
    "\n",
    "for line in lines:\n",
    "    opponent, me = line.strip('\\n').split(' ')\n",
    "    if me == 'X':\n",
    "        score += 0\n",
    "        if opponent == 'A':\n",
    "            score += 3\n",
    "        elif opponent == 'B':\n",
    "            score += 1\n",
    "        elif opponent == 'C':\n",
    "            score += 2\n",
    "    elif me == 'Y':\n",
    "        score += 3\n",
    "        if opponent == 'A':\n",
    "            score += 1\n",
    "        elif opponent == 'B':\n",
    "            score += 2\n",
    "        elif opponent == 'C':\n",
    "            score += 3\n",
    "    elif me == 'Z':\n",
    "        score += 6\n",
    "        if opponent == 'A':\n",
    "            score += 2\n",
    "        elif opponent == 'B':\n",
    "            score += 3\n",
    "        elif opponent == 'C':\n",
    "            score += 1\n",
    "\n",
    "print(score)"
   ]
  },
  {
   "cell_type": "code",
   "execution_count": null,
   "metadata": {},
   "outputs": [],
   "source": []
  }
 ],
 "metadata": {
  "kernelspec": {
   "display_name": "Python 3.11.0 64-bit",
   "language": "python",
   "name": "python3"
  },
  "language_info": {
   "codemirror_mode": {
    "name": "ipython",
    "version": 3
   },
   "file_extension": ".py",
   "mimetype": "text/x-python",
   "name": "python",
   "nbconvert_exporter": "python",
   "pygments_lexer": "ipython3",
   "version": "3.11.0"
  },
  "orig_nbformat": 4,
  "vscode": {
   "interpreter": {
    "hash": "aee8b7b246df8f9039afb4144a1f6fd8d2ca17a180786b69acc140d282b71a49"
   }
  }
 },
 "nbformat": 4,
 "nbformat_minor": 2
}
