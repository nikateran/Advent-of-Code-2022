{
 "cells": [
  {
   "cell_type": "code",
   "execution_count": 3,
   "metadata": {},
   "outputs": [
    {
     "name": "stdout",
     "output_type": "stream",
     "text": [
      "1287\n"
     ]
    }
   ],
   "source": [
    "#Part 1\n",
    "\n",
    "input = open('6_big.txt', 'r').read()\n",
    "\n",
    "count = 4\n",
    "for n in input[3:]:\n",
    "    group = input[count-4:count]\n",
    "    multiples = []\n",
    "    for g in group:\n",
    "        if group.count(g) > 1:\n",
    "            multiples.append(g)\n",
    "    if len(multiples) == 0:\n",
    "        print(count)\n",
    "        break\n",
    "    count += 1\n"
   ]
  },
  {
   "cell_type": "code",
   "execution_count": 5,
   "metadata": {},
   "outputs": [
    {
     "name": "stdout",
     "output_type": "stream",
     "text": [
      "3716\n"
     ]
    }
   ],
   "source": [
    "#Part 2\n",
    "\n",
    "input = open('6_big.txt', 'r').read()\n",
    "\n",
    "count = 14\n",
    "for n in input[13:]:\n",
    "    group = input[count-14:count]\n",
    "    multiples = []\n",
    "    for g in group:\n",
    "        if group.count(g) > 1:\n",
    "            multiples.append(g)\n",
    "    if len(multiples) == 0:\n",
    "        print(count)\n",
    "        break\n",
    "    count += 1\n"
   ]
  }
 ],
 "metadata": {
  "kernelspec": {
   "display_name": "Python 3.11.0 64-bit",
   "language": "python",
   "name": "python3"
  },
  "language_info": {
   "codemirror_mode": {
    "name": "ipython",
    "version": 3
   },
   "file_extension": ".py",
   "mimetype": "text/x-python",
   "name": "python",
   "nbconvert_exporter": "python",
   "pygments_lexer": "ipython3",
   "version": "3.11.0 (v3.11.0:deaf509e8f, Oct 24 2022, 14:43:23) [Clang 13.0.0 (clang-1300.0.29.30)]"
  },
  "orig_nbformat": 4,
  "vscode": {
   "interpreter": {
    "hash": "aee8b7b246df8f9039afb4144a1f6fd8d2ca17a180786b69acc140d282b71a49"
   }
  }
 },
 "nbformat": 4,
 "nbformat_minor": 2
}
