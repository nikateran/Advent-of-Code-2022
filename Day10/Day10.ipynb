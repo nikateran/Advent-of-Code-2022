{
 "cells": [
  {
   "cell_type": "code",
   "execution_count": 31,
   "metadata": {},
   "outputs": [
    {
     "name": "stdout",
     "output_type": "stream",
     "text": [
      "240\n",
      "38 21 21 8 21 22\n",
      "13860\n"
     ]
    }
   ],
   "source": [
    "#Part 1\n",
    "\n",
    "lines = open('10_big.txt', 'r').readlines()\n",
    "\n",
    "cycle = 0\n",
    "X = 1\n",
    "twenty = sixty = hundred = hunfor = huneig = twotwe = 0\n",
    "\n",
    "for line in lines:\n",
    "    if 'noop' in line:\n",
    "        cycle += 1\n",
    "        if cycle == 20:\n",
    "            twenty = X\n",
    "        elif cycle == 60:\n",
    "            sixty = X\n",
    "        elif cycle == 100:\n",
    "            hundred = X\n",
    "        elif cycle == 140:\n",
    "            hunfor = X\n",
    "        elif cycle == 180:\n",
    "            huneig = X\n",
    "        elif cycle == 220:\n",
    "            twotwe = X\n",
    "    if 'addx' in line:\n",
    "        cycle += 1\n",
    "        if cycle == 20:\n",
    "            twenty = X\n",
    "        elif cycle == 60:\n",
    "            sixty = X\n",
    "        elif cycle == 100:\n",
    "            hundred = X\n",
    "        elif cycle == 140:\n",
    "            hunfor = X\n",
    "        elif cycle == 180:\n",
    "            huneig = X\n",
    "        elif cycle == 220:\n",
    "            twotwe = X\n",
    "        cycle += 1\n",
    "        \n",
    "        if cycle == 20:\n",
    "            twenty = X\n",
    "        elif cycle == 60:\n",
    "            sixty = X\n",
    "        elif cycle == 100:\n",
    "            hundred = X\n",
    "        elif cycle == 140:\n",
    "            hunfor = X\n",
    "        elif cycle == 180:\n",
    "            huneig = X\n",
    "        elif cycle == 220:\n",
    "            twotwe = X\n",
    "        X += int(line.split(' ')[1])\n",
    "       \n",
    "\n",
    "print(cycle)\n",
    "print(twenty, sixty, hundred, hunfor, huneig, twotwe)\n",
    "print(20*twenty+60*sixty+100*hundred+140*hunfor+180*huneig+220*twotwe)\n",
    "        "
   ]
  }
 ],
 "metadata": {
  "kernelspec": {
   "display_name": "Python 3",
   "language": "python",
   "name": "python3"
  },
  "language_info": {
   "codemirror_mode": {
    "name": "ipython",
    "version": 3
   },
   "file_extension": ".py",
   "mimetype": "text/x-python",
   "name": "python",
   "nbconvert_exporter": "python",
   "pygments_lexer": "ipython3",
   "version": "3.11.0 (v3.11.0:deaf509e8f, Oct 24 2022, 14:43:23) [Clang 13.0.0 (clang-1300.0.29.30)]"
  },
  "orig_nbformat": 4,
  "vscode": {
   "interpreter": {
    "hash": "aee8b7b246df8f9039afb4144a1f6fd8d2ca17a180786b69acc140d282b71a49"
   }
  }
 },
 "nbformat": 4,
 "nbformat_minor": 2
}
