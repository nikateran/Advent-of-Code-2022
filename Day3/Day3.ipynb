{
 "cells": [
  {
   "cell_type": "code",
   "execution_count": null,
   "metadata": {},
   "outputs": [],
   "source": [
    "#Part 1\n",
    "\n",
    "lines = open('3_big.txt', 'r').readlines()\n",
    "\n",
    "result = 0\n",
    "\n",
    "for line in lines:\n",
    "    line.strip('\\n')\n",
    "    compartment1 = line[:len(line)//2]\n",
    "    compartment2 = line[len(line)//2:]\n",
    "    for item in compartment1:\n",
    "        if item in compartment2:\n",
    "            if item.islower():\n",
    "                result += ord(item) - 96\n",
    "            else:\n",
    "                result += ord(item) - 38\n",
    "            break\n",
    "\n",
    "print(result)"
   ]
  },
  {
   "cell_type": "code",
   "execution_count": 2,
   "metadata": {},
   "outputs": [
    {
     "name": "stdout",
     "output_type": "stream",
     "text": [
      "2479\n"
     ]
    }
   ],
   "source": [
    "#Part 2\n",
    "\n",
    "lines = open('3_big.txt', 'r').readlines()\n",
    "\n",
    "result = 0\n",
    "\n",
    "groups = []\n",
    "\n",
    "for line in lines:\n",
    "    groups.append(line)\n",
    "    if len(groups) == 3:\n",
    "        for item in groups[0]:\n",
    "            if item in groups[1] and item in groups[2]:\n",
    "                if item.islower():\n",
    "                    result += ord(item) - 96\n",
    "                else:\n",
    "                    result += ord(item) - 38\n",
    "                groups.clear()\n",
    "                break\n",
    "\n",
    "print(result)\n"
   ]
  },
  {
   "cell_type": "code",
   "execution_count": null,
   "metadata": {},
   "outputs": [],
   "source": []
  }
 ],
 "metadata": {
  "kernelspec": {
   "display_name": "Python 3.11.0 64-bit",
   "language": "python",
   "name": "python3"
  },
  "language_info": {
   "codemirror_mode": {
    "name": "ipython",
    "version": 3
   },
   "file_extension": ".py",
   "mimetype": "text/x-python",
   "name": "python",
   "nbconvert_exporter": "python",
   "pygments_lexer": "ipython3",
   "version": "3.11.0"
  },
  "orig_nbformat": 4,
  "vscode": {
   "interpreter": {
    "hash": "aee8b7b246df8f9039afb4144a1f6fd8d2ca17a180786b69acc140d282b71a49"
   }
  }
 },
 "nbformat": 4,
 "nbformat_minor": 2
}
