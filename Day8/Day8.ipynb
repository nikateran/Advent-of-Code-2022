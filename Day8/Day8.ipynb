{
 "cells": [
  {
   "cell_type": "code",
   "execution_count": 18,
   "metadata": {},
   "outputs": [
    {
     "name": "stdout",
     "output_type": "stream",
     "text": [
      "1805\n"
     ]
    }
   ],
   "source": [
    "#Part 1\n",
    "\n",
    "lines = open('8_big.txt', 'r').readlines()\n",
    "\n",
    "a = len(lines)\n",
    "edges = 4*a - 4\n",
    "visible = edges\n",
    "grid = [[] for i in range(a)]\n",
    "\n",
    "n = 0\n",
    "for line in lines:\n",
    "    line = line.strip('\\n')\n",
    "    for x in line:\n",
    "        grid[n].append(int(x))\n",
    "    n += 1\n",
    "\n",
    "for y in range(1, len(grid)-1):\n",
    "    for x in range(1, len(grid[0])-1):\n",
    "        tree = grid[y][x]\n",
    "        left = grid[y][:x]\n",
    "        right = grid[y][x+1:]\n",
    "        up = []\n",
    "        for new_y in range(0, y):\n",
    "            up.append(grid[new_y][x])\n",
    "        down = []\n",
    "        for new_y in range(y+1, len(grid)):\n",
    "            down.append(grid[new_y][x])\n",
    "        if max(left) < tree or max(right) < tree or max(up) < tree or max(down) < tree:\n",
    "            visible += 1\n",
    "\n",
    "print(visible)"
   ]
  },
  {
   "cell_type": "code",
   "execution_count": 34,
   "metadata": {},
   "outputs": [
    {
     "name": "stdout",
     "output_type": "stream",
     "text": [
      "444528\n"
     ]
    }
   ],
   "source": [
    "#Part 2\n",
    "\n",
    "lines = open('8_big.txt', 'r').readlines()\n",
    "\n",
    "a = len(lines)\n",
    "edges = 4*a - 4\n",
    "visible = edges\n",
    "grid = [[] for i in range(a)]\n",
    "scores = []\n",
    "\n",
    "n = 0\n",
    "for line in lines:\n",
    "    line = line.strip('\\n')\n",
    "    for x in line:\n",
    "        grid[n].append(int(x))\n",
    "    n += 1\n",
    "\n",
    "for y in range(1, len(grid)-1):\n",
    "    for x in range(1, len(grid[0])-1):\n",
    "        tree = grid[y][x]\n",
    "        left = grid[y][:x]\n",
    "        right = grid[y][x+1:]\n",
    "        up = []\n",
    "        for new_y in range(0, y):\n",
    "            up.append(grid[new_y][x])\n",
    "        down = []\n",
    "        for new_y in range(y+1, len(grid)):\n",
    "            down.append(grid[new_y][x])\n",
    "        r = l = d = u = 0\n",
    "\n",
    "        left.reverse()\n",
    "        up.reverse()\n",
    "\n",
    "        for rig in right:\n",
    "            if rig < tree:\n",
    "                r += 1\n",
    "            elif rig >= tree:\n",
    "                r += 1\n",
    "                break\n",
    "        for lef in left:\n",
    "            if lef < tree:\n",
    "                l += 1\n",
    "            elif lef >= tree:\n",
    "                l += 1\n",
    "                break\n",
    "        for dow in down:\n",
    "            if dow < tree:\n",
    "                d += 1\n",
    "            elif dow >= tree:\n",
    "                d += 1\n",
    "                break\n",
    "        for upp in up:\n",
    "            if upp < tree:\n",
    "                u += 1\n",
    "            elif upp >= tree:\n",
    "                u += 1\n",
    "                break\n",
    "        score = r*l*d*u\n",
    "        scores.append(score)\n",
    "\n",
    "result = max(scores)\n",
    "print(result)\n"
   ]
  }
 ],
 "metadata": {
  "kernelspec": {
   "display_name": "Python 3.11.0 64-bit",
   "language": "python",
   "name": "python3"
  },
  "language_info": {
   "codemirror_mode": {
    "name": "ipython",
    "version": 3
   },
   "file_extension": ".py",
   "mimetype": "text/x-python",
   "name": "python",
   "nbconvert_exporter": "python",
   "pygments_lexer": "ipython3",
   "version": "3.11.0 (v3.11.0:deaf509e8f, Oct 24 2022, 14:43:23) [Clang 13.0.0 (clang-1300.0.29.30)]"
  },
  "orig_nbformat": 4,
  "vscode": {
   "interpreter": {
    "hash": "aee8b7b246df8f9039afb4144a1f6fd8d2ca17a180786b69acc140d282b71a49"
   }
  }
 },
 "nbformat": 4,
 "nbformat_minor": 2
}
