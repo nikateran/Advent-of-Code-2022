{
 "cells": [
  {
   "cell_type": "code",
   "execution_count": 14,
   "metadata": {},
   "outputs": [
    {
     "data": {
      "text/plain": [
       "571"
      ]
     },
     "execution_count": 14,
     "metadata": {},
     "output_type": "execute_result"
    }
   ],
   "source": [
    "#Part 1\n",
    "\n",
    "lines = open('4_big.txt', 'r').readlines()\n",
    "\n",
    "count = 0\n",
    "\n",
    "for line in lines:\n",
    "    first = line.split(',')[0]\n",
    "    second = line.split(',')[1].strip('\\n')\n",
    "    first_b, first_e = first.split('-')\n",
    "    second_b, second_e = second.split('-')\n",
    "    first_b = int(first_b)\n",
    "    first_e = int(first_e)\n",
    "    second_b = int(second_b)\n",
    "    second_e = int(second_e)\n",
    "\n",
    "    if first_b <= second_b and first_e >= second_e or first_b >= second_b and first_e <= second_e:\n",
    "        count += 1\n",
    "\n",
    "\n",
    "count\n"
   ]
  },
  {
   "cell_type": "code",
   "execution_count": 24,
   "metadata": {},
   "outputs": [
    {
     "data": {
      "text/plain": [
       "917"
      ]
     },
     "execution_count": 24,
     "metadata": {},
     "output_type": "execute_result"
    }
   ],
   "source": [
    "#Part 2\n",
    "\n",
    "lines = open('4_big.txt', 'r').readlines()\n",
    "\n",
    "count = 0\n",
    "\n",
    "for line in lines:\n",
    "    first = line.split(',')[0]\n",
    "    second = line.split(',')[1].strip('\\n')\n",
    "    first_b, first_e = first.split('-')\n",
    "    second_b, second_e = second.split('-')\n",
    "    first_b = int(first_b)\n",
    "    first_e = int(first_e)\n",
    "    second_b = int(second_b)\n",
    "    second_e = int(second_e)\n",
    "\n",
    "    if first_b <= second_b and first_e >= second_e or first_b >= second_b and first_e <= second_e or first_e in range(second_b, second_e) or second_e in range(first_b, first_e):\n",
    "        count += 1\n",
    "\n",
    "\n",
    "count\n"
   ]
  },
  {
   "cell_type": "code",
   "execution_count": null,
   "metadata": {},
   "outputs": [],
   "source": []
  }
 ],
 "metadata": {
  "kernelspec": {
   "display_name": "Python 3.11.0 64-bit",
   "language": "python",
   "name": "python3"
  },
  "language_info": {
   "codemirror_mode": {
    "name": "ipython",
    "version": 3
   },
   "file_extension": ".py",
   "mimetype": "text/x-python",
   "name": "python",
   "nbconvert_exporter": "python",
   "pygments_lexer": "ipython3",
   "version": "3.11.0 (v3.11.0:deaf509e8f, Oct 24 2022, 14:43:23) [Clang 13.0.0 (clang-1300.0.29.30)]"
  },
  "orig_nbformat": 4,
  "vscode": {
   "interpreter": {
    "hash": "aee8b7b246df8f9039afb4144a1f6fd8d2ca17a180786b69acc140d282b71a49"
   }
  }
 },
 "nbformat": 4,
 "nbformat_minor": 2
}
