{
 "cells": [
  {
   "cell_type": "code",
   "execution_count": 4,
   "metadata": {},
   "outputs": [
    {
     "name": "stdout",
     "output_type": "stream",
     "text": [
      "6563\n"
     ]
    }
   ],
   "source": [
    "#Part 1\n",
    "\n",
    "lines = open('9_big.txt', 'r').readlines()\n",
    "\n",
    "H_spots = [[0,0]]\n",
    "T_spots = [[0,0]]\n",
    "k = l = 0\n",
    "x = y = 0\n",
    "\n",
    "for line in lines:\n",
    "    direction, steps = line.split(' ')\n",
    "    steps = int(steps)\n",
    "    if direction == 'R':\n",
    "        for i in range(steps):\n",
    "            k += 1\n",
    "            spot = [k, l]\n",
    "            H_spots.append(spot)\n",
    "            if x != k + 1 and x != k and x != k - 1:\n",
    "                x += 1\n",
    "                y = l\n",
    "                spott = [x, y]\n",
    "                T_spots.append(spott)\n",
    "    if direction == 'U':\n",
    "        for i in range(steps):\n",
    "            l += 1\n",
    "            spot = [k, l]\n",
    "            H_spots.append(spot)\n",
    "            if y != l + 1 and y != l and y != l - 1:\n",
    "                y += 1\n",
    "                x = k\n",
    "                spott = [x, y]\n",
    "                T_spots.append(spott)\n",
    "    if direction == 'L':\n",
    "        for i in range(steps):\n",
    "            k -= 1\n",
    "            spot = [k, l]\n",
    "            H_spots.append(spot)\n",
    "            if x != k + 1 and x != k and x != k - 1:\n",
    "                x -= 1\n",
    "                y = l\n",
    "                spott = [x, y]\n",
    "                T_spots.append(spott)\n",
    "    if direction == 'D':\n",
    "        for i in range(steps):\n",
    "            l -= 1\n",
    "            spot = [k, l]\n",
    "            H_spots.append(spot)\n",
    "            if y != l + 1 and y != l and y != l - 1:\n",
    "                y -= 1\n",
    "                x = k\n",
    "                spott = [x, y]\n",
    "                T_spots.append(spott)\n",
    "\n",
    "originals = []\n",
    "\n",
    "for t in T_spots:\n",
    "    if t not in originals:\n",
    "        originals.append(t)\n",
    "\n",
    "\n",
    "print(len(originals))"
   ]
  },
  {
   "cell_type": "code",
   "execution_count": null,
   "metadata": {},
   "outputs": [],
   "source": []
  }
 ],
 "metadata": {
  "kernelspec": {
   "display_name": "Python 3",
   "language": "python",
   "name": "python3"
  },
  "language_info": {
   "codemirror_mode": {
    "name": "ipython",
    "version": 3
   },
   "file_extension": ".py",
   "mimetype": "text/x-python",
   "name": "python",
   "nbconvert_exporter": "python",
   "pygments_lexer": "ipython3",
   "version": "3.11.0 (v3.11.0:deaf509e8f, Oct 24 2022, 14:43:23) [Clang 13.0.0 (clang-1300.0.29.30)]"
  },
  "orig_nbformat": 4,
  "vscode": {
   "interpreter": {
    "hash": "aee8b7b246df8f9039afb4144a1f6fd8d2ca17a180786b69acc140d282b71a49"
   }
  }
 },
 "nbformat": 4,
 "nbformat_minor": 2
}
