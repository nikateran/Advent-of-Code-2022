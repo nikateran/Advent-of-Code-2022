{
 "cells": [
  {
   "cell_type": "code",
   "execution_count": 8,
   "metadata": {},
   "outputs": [
    {
     "name": "stdout",
     "output_type": "stream",
     "text": [
      "68923\n"
     ]
    }
   ],
   "source": [
    "#Part 1\n",
    "\n",
    "lines = open('1_big.txt', 'r').readlines()\n",
    "\n",
    "calories = 0\n",
    "current = 0\n",
    "\n",
    "for line in lines:\n",
    "    if line.strip('\\n') == '':\n",
    "        if calories >= current:\n",
    "            current = calories\n",
    "            calories = 0\n",
    "            continue\n",
    "        else:\n",
    "            calories = 0\n",
    "            continue\n",
    "    else:\n",
    "        kcal = int(line.strip('\\n'))\n",
    "        calories += kcal\n",
    "\n",
    "print(current)"
   ]
  },
  {
   "cell_type": "code",
   "execution_count": 15,
   "metadata": {},
   "outputs": [
    {
     "name": "stdout",
     "output_type": "stream",
     "text": [
      "200044\n"
     ]
    }
   ],
   "source": [
    "#Part 2\n",
    "\n",
    "lines = open('1_big.txt', 'r').readlines()\n",
    "\n",
    "calories = 0\n",
    "kcals = []\n",
    "\n",
    "for line in lines:\n",
    "    if line.strip('\\n') == '':\n",
    "        kcals.append(calories)\n",
    "        calories = 0          \n",
    "    else:\n",
    "        kcal = int(line.strip('\\n'))\n",
    "        calories += kcal\n",
    "\n",
    "kcals.sort(reverse=True)\n",
    "\n",
    "result = kcals[0] + kcals[1] + kcals[2]\n",
    "print(result)"
   ]
  },
  {
   "cell_type": "code",
   "execution_count": null,
   "metadata": {},
   "outputs": [],
   "source": []
  }
 ],
 "metadata": {
  "kernelspec": {
   "display_name": "Python 3.11.0 64-bit",
   "language": "python",
   "name": "python3"
  },
  "language_info": {
   "codemirror_mode": {
    "name": "ipython",
    "version": 3
   },
   "file_extension": ".py",
   "mimetype": "text/x-python",
   "name": "python",
   "nbconvert_exporter": "python",
   "pygments_lexer": "ipython3",
   "version": "3.11.0"
  },
  "orig_nbformat": 4,
  "vscode": {
   "interpreter": {
    "hash": "aee8b7b246df8f9039afb4144a1f6fd8d2ca17a180786b69acc140d282b71a49"
   }
  }
 },
 "nbformat": 4,
 "nbformat_minor": 2
}
