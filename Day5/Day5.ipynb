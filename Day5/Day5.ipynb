{
 "cells": [
  {
   "cell_type": "code",
   "execution_count": 25,
   "metadata": {},
   "outputs": [
    {
     "name": "stdout",
     "output_type": "stream",
     "text": [
      "J\n",
      "C\n",
      "M\n",
      "H\n",
      "L\n",
      "V\n",
      "G\n",
      "M\n",
      "G\n"
     ]
    }
   ],
   "source": [
    "#Part 1\n",
    "\n",
    "lines = open('5_big.txt', 'r').readlines()\n",
    "\n",
    "floors = 0\n",
    "\n",
    "for line in lines:\n",
    "    if '[' in line:\n",
    "        floors += 1\n",
    "\n",
    "stacks = []\n",
    "\n",
    "for number in range(1, 36, 4):\n",
    "    stacks.append([number])\n",
    "\n",
    "for line in lines[:floors+1]:\n",
    "    for i in stacks:\n",
    "        if line[int(i[0])] != ' ':\n",
    "            i.append(line[int(i[0])])\n",
    "\n",
    "\n",
    "for stack in stacks:\n",
    "    stack.pop()\n",
    "    stack.pop(0)\n",
    "    stack.reverse()\n",
    "\n",
    "for line in lines:\n",
    "    if 'move' in line:\n",
    "        words = line.split(' ')\n",
    "        how_many = int(words[1])\n",
    "        old = int(words[3])\n",
    "        new = int(words[5])\n",
    "        for time in range(how_many):\n",
    "            last = stacks[old-1].pop()\n",
    "            stacks[new-1].append(last)\n",
    "\n",
    "for i in stacks:\n",
    "    print(i.pop())\n"
   ]
  },
  {
   "cell_type": "code",
   "execution_count": 40,
   "metadata": {},
   "outputs": [
    {
     "name": "stdout",
     "output_type": "stream",
     "text": [
      "L\n",
      "V\n",
      "M\n",
      "R\n",
      "W\n",
      "S\n",
      "S\n",
      "P\n",
      "Z\n"
     ]
    }
   ],
   "source": [
    "#Part 2\n",
    "\n",
    "lines = open('5_big.txt', 'r').readlines()\n",
    "\n",
    "floors = 0\n",
    "\n",
    "for line in lines:\n",
    "    if '[' in line:\n",
    "        floors += 1\n",
    "\n",
    "stacks = []\n",
    "\n",
    "for number in range(1, 36, 4):\n",
    "    stacks.append([number])\n",
    "\n",
    "for line in lines[:floors+1]:\n",
    "    for i in stacks:\n",
    "        if line[int(i[0])] != ' ':\n",
    "            i.append(line[int(i[0])])\n",
    "\n",
    "\n",
    "for stack in stacks:\n",
    "    stack.pop()\n",
    "    stack.pop(0)\n",
    "    stack.reverse()\n",
    "\n",
    "\n",
    "for line in lines:\n",
    "    if 'move' in line:\n",
    "        words = line.split(' ')\n",
    "        how_many = int(words[1])\n",
    "        old = int(words[3])\n",
    "        new = int(words[5])\n",
    "        temp = stacks[old-1][-how_many:]\n",
    "        stacks[old-1] = stacks[old-1][:len(stacks[old-1])-how_many]\n",
    "        for i in temp:\n",
    "            stacks[new-1].append(i)\n",
    "\n",
    "\n",
    "for i in stacks:\n",
    "    print(i.pop())\n"
   ]
  },
  {
   "cell_type": "code",
   "execution_count": null,
   "metadata": {},
   "outputs": [],
   "source": []
  }
 ],
 "metadata": {
  "kernelspec": {
   "display_name": "Python 3.11.0 64-bit",
   "language": "python",
   "name": "python3"
  },
  "language_info": {
   "codemirror_mode": {
    "name": "ipython",
    "version": 3
   },
   "file_extension": ".py",
   "mimetype": "text/x-python",
   "name": "python",
   "nbconvert_exporter": "python",
   "pygments_lexer": "ipython3",
   "version": "3.11.0"
  },
  "orig_nbformat": 4,
  "vscode": {
   "interpreter": {
    "hash": "aee8b7b246df8f9039afb4144a1f6fd8d2ca17a180786b69acc140d282b71a49"
   }
  }
 },
 "nbformat": 4,
 "nbformat_minor": 2
}
